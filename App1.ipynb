{
 "cells": [
  {
   "cell_type": "code",
   "execution_count": 2,
   "id": "faa8c3a2-87ac-4de2-921e-aaaac8b38483",
   "metadata": {},
   "outputs": [
    {
     "name": "stdout",
     "output_type": "stream",
     "text": [
      "* Running on local URL:  http://127.0.0.1:7861\n",
      "* Running on public URL: https://abec70ea94fb4da6a4.gradio.live\n",
      "\n",
      "This share link expires in 1 week. For free permanent hosting and GPU upgrades, run `gradio deploy` from the terminal in the working directory to deploy to Hugging Face Spaces (https://huggingface.co/spaces)\n",
      "Created dataset file at: .gradio\\flagged\\dataset1.csv\n",
      "Keyboard interruption in main thread... closing server.\n",
      "Killing tunnel 127.0.0.1:7861 <> https://abec70ea94fb4da6a4.gradio.live\n"
     ]
    },
    {
     "data": {
      "text/plain": []
     },
     "execution_count": 2,
     "metadata": {},
     "output_type": "execute_result"
    }
   ],
   "source": [
    "import gradio as gr\n",
    "import pandas as pd\n",
    "import joblib\n",
    "\n",
    "\n",
    "model = joblib.load(\"covid_19_predictor_2025.joblib\")\n",
    "\n",
    "def predict_covid(age, gender, location, temperature, humidity, aqi, vaccinated, recent_travel, smoker,\n",
    "                  fever, cough, fatigue, sore_throat, nasal_congestion, headache,\n",
    "                  sneezing, nausea, loss_smell, breathlessness):\n",
    "    \n",
    "   \n",
    "    input_dict = {\n",
    "        \"Age\": age,\n",
    "        \"Gender\": gender,\n",
    "        \"Location\": location,\n",
    "        \"Temperature\": temperature,\n",
    "        \"Humidity\": humidity,\n",
    "        \"Air_Quality_Index\": aqi,\n",
    "        \"Vaccinated\": int(vaccinated),\n",
    "        \"Recent_Travel\": int(recent_travel),\n",
    "        \"Smoker\": int(smoker),\n",
    "        \"Fever\": int(fever),\n",
    "        \"Cough\": int(cough),\n",
    "        \"Fatigue\": int(fatigue),\n",
    "        \"Sore_Throat\": int(sore_throat),\n",
    "        \"Nasal_Congestion\": int(nasal_congestion),\n",
    "        \"Headache\": int(headache),\n",
    "        \"Sneezing\": int(sneezing),\n",
    "        \"Nausea\": int(nausea),\n",
    "        \"Loss_Smell\": int(loss_smell),\n",
    "        \"Breathlessness\": int(breathlessness)\n",
    "    }\n",
    "    \n",
    "    \n",
    "    input_df = pd.DataFrame([input_dict])\n",
    "    input_df = pd.get_dummies(input_df)\n",
    "    input_df = input_df.reindex(columns=model.feature_names_in_, fill_value=0)\n",
    "    \n",
    "    probability = model.predict_proba(input_df)[0][1]  \n",
    "    return f\"Your possibility of getting Covid 19 new variant is : {probability:.2%}\"\n",
    "\n",
    "inputs = [\n",
    "    gr.Number(label=\"Age\", value=30),\n",
    "    gr.Dropdown(choices=[\"Female\", \"Male\", \"Other(Cannot Specify)\"], label=\"Gender\"),\n",
    "    gr.Dropdown(choices=[\"Pune\", \"Mumbai\", \"Delhi\"], label=\"Location\"),\n",
    "    gr.Number(label=\"Temperature (°C)\", value=30),\n",
    "    gr.Number(label=\"Humidity (%)\", value=50),\n",
    "    gr.Number(label=\"Air Quality Index\", value=100),\n",
    "    gr.Checkbox(label=\"Vaccinated\", value=True),\n",
    "    gr.Checkbox(label=\"Recent Travel\", value=False),\n",
    "    gr.Checkbox(label=\"Smoker\", value=False),\n",
    "    gr.Checkbox(label=\"Fever\", value=False),\n",
    "    gr.Checkbox(label=\"Cough\", value=False),\n",
    "    gr.Checkbox(label=\"Fatigue\", value=False),\n",
    "    gr.Checkbox(label=\"Sore Throat\", value=False),\n",
    "    gr.Checkbox(label=\"Nasal Congestion\", value=False),\n",
    "    gr.Checkbox(label=\"Headache\", value=False),\n",
    "    gr.Checkbox(label=\"Sneezing\", value=False),\n",
    "    gr.Checkbox(label=\"Nausea\", value=False),\n",
    "    gr.Checkbox(label=\"Loss of Smell\", value=False),\n",
    "    gr.Checkbox(label=\"Breathlessness\", value=False)\n",
    "]\n",
    "\n",
    "iface = gr.Interface(\n",
    "    fn=predict_covid,\n",
    "    inputs=inputs,\n",
    "    outputs=\"text\",\n",
    "    title=\"COVID-19 Variant NB 1.8.1 Prediction\"\n",
    ")\n",
    "\n",
    "iface.launch(inline = False, share = True, debug = True)\n"
   ]
  },
  {
   "cell_type": "code",
   "execution_count": null,
   "id": "04fd50bf-d52f-4ee0-9d17-49b388cbb928",
   "metadata": {},
   "outputs": [],
   "source": []
  }
 ],
 "metadata": {
  "kernelspec": {
   "display_name": "Python 3 (ipykernel)",
   "language": "python",
   "name": "python3"
  },
  "language_info": {
   "codemirror_mode": {
    "name": "ipython",
    "version": 3
   },
   "file_extension": ".py",
   "mimetype": "text/x-python",
   "name": "python",
   "nbconvert_exporter": "python",
   "pygments_lexer": "ipython3",
   "version": "3.11.9"
  }
 },
 "nbformat": 4,
 "nbformat_minor": 5
}
